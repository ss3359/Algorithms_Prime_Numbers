{
 "cells": [
  {
   "cell_type": "code",
   "execution_count": 9,
   "id": "afd160dd",
   "metadata": {},
   "outputs": [],
   "source": [
    "import math \n",
    "import numpy \n",
    "import random\n",
    "import pandas as pd \n",
    "import scipy as sp\n",
    "import sympy as sy\n",
    "from sympy import randprime"
   ]
  },
  {
   "cell_type": "code",
   "execution_count": 10,
   "id": "e73c72f9",
   "metadata": {},
   "outputs": [],
   "source": [
    "#Functions To Use \n",
    "def IsPrime(n): \n",
    "    if(n==1 or n==0):\n",
    "        return False\n",
    "    for j in range(2,n):\n",
    "        if(n%j==0): \n",
    "            return False\n",
    "    return True\n",
    "\n",
    "def gcd(a,b): \n",
    "    n=1\n",
    "    gcd=1\n",
    "    while(n<=a and n<=b): \n",
    "        if(n%a==0 and n%b==0): \n",
    "            gcd=n\n",
    "            n+=1\n",
    "    return gcd\n"
   ]
  },
  {
   "cell_type": "code",
   "execution_count": 11,
   "id": "c6f9c806",
   "metadata": {},
   "outputs": [],
   "source": [
    "# RSA Class\n",
    "class RSA: \n",
    "    def __init__(self,p,q):\n",
    "        self.p=p\n",
    "        self.q=q\n",
    "    def PrintNumbers(self): \n",
    "        print(\"p = \", self.p)\n",
    "        print(\"q = \", self.q)\n",
    "    def EulerTotient(self): \n",
    "        return ((self.p)-1)*((self.q)-1)"
   ]
  },
  {
   "cell_type": "code",
   "execution_count": null,
   "id": "d2f921b2",
   "metadata": {},
   "outputs": [],
   "source": []
  },
  {
   "cell_type": "code",
   "execution_count": null,
   "id": "09e62f13",
   "metadata": {},
   "outputs": [],
   "source": []
  },
  {
   "cell_type": "code",
   "execution_count": null,
   "id": "e936f5ba",
   "metadata": {},
   "outputs": [],
   "source": []
  },
  {
   "cell_type": "code",
   "execution_count": null,
   "id": "40dec522",
   "metadata": {},
   "outputs": [],
   "source": []
  },
  {
   "cell_type": "code",
   "execution_count": null,
   "id": "be4a0650",
   "metadata": {},
   "outputs": [],
   "source": []
  },
  {
   "cell_type": "code",
   "execution_count": null,
   "id": "e2d7cf88",
   "metadata": {},
   "outputs": [],
   "source": []
  },
  {
   "cell_type": "code",
   "execution_count": null,
   "id": "38994093",
   "metadata": {},
   "outputs": [],
   "source": []
  }
 ],
 "metadata": {
  "kernelspec": {
   "display_name": "Python 3 (ipykernel)",
   "language": "python",
   "name": "python3"
  },
  "language_info": {
   "codemirror_mode": {
    "name": "ipython",
    "version": 3
   },
   "file_extension": ".py",
   "mimetype": "text/x-python",
   "name": "python",
   "nbconvert_exporter": "python",
   "pygments_lexer": "ipython3",
   "version": "3.9.12"
  }
 },
 "nbformat": 4,
 "nbformat_minor": 5
}
